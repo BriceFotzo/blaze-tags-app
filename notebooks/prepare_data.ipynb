{
 "cells": [
  {
   "cell_type": "code",
   "execution_count": 1,
   "metadata": {},
   "outputs": [
    {
     "name": "stdout",
     "output_type": "stream",
     "text": [
      "Requirement already satisfied: pandas in /home/brice/WORKSPACE/blaze-tags-app/blaze-tags-app/blaze/lib/python3.8/site-packages (1.2.4)\n",
      "Requirement already satisfied: numpy>=1.16.5 in /home/brice/WORKSPACE/blaze-tags-app/blaze-tags-app/blaze/lib/python3.8/site-packages (from pandas) (1.20.3)\n",
      "Requirement already satisfied: python-dateutil>=2.7.3 in /home/brice/WORKSPACE/blaze-tags-app/blaze-tags-app/blaze/lib/python3.8/site-packages (from pandas) (2.8.1)\n",
      "Requirement already satisfied: pytz>=2017.3 in /home/brice/WORKSPACE/blaze-tags-app/blaze-tags-app/blaze/lib/python3.8/site-packages (from pandas) (2021.1)\n",
      "Requirement already satisfied: six>=1.5 in /home/brice/WORKSPACE/blaze-tags-app/blaze-tags-app/blaze/lib/python3.8/site-packages (from python-dateutil>=2.7.3->pandas) (1.16.0)\n"
     ]
    }
   ],
   "source": [
    "!pip install pandas\n",
    "import pandas as pd"
   ]
  },
  {
   "cell_type": "code",
   "execution_count": 10,
   "metadata": {},
   "outputs": [],
   "source": [
    "import os\n",
    "IMAGE_PATH='../data/images'\n",
    "artistes=[l for l in os.listdir(IMAGE_PATH) if '.log' not in l]"
   ]
  },
  {
   "cell_type": "code",
   "execution_count": 15,
   "metadata": {},
   "outputs": [
    {
     "data": {
      "text/plain": [
       "11"
      ]
     },
     "execution_count": 15,
     "metadata": {},
     "output_type": "execute_result"
    }
   ],
   "source": [
    "len(artistes)"
   ]
  },
  {
   "cell_type": "code",
   "execution_count": 23,
   "metadata": {},
   "outputs": [
    {
     "data": {
      "text/html": [
       "<div>\n",
       "<style scoped>\n",
       "    .dataframe tbody tr th:only-of-type {\n",
       "        vertical-align: middle;\n",
       "    }\n",
       "\n",
       "    .dataframe tbody tr th {\n",
       "        vertical-align: top;\n",
       "    }\n",
       "\n",
       "    .dataframe thead th {\n",
       "        text-align: right;\n",
       "    }\n",
       "</style>\n",
       "<table border=\"1\" class=\"dataframe\">\n",
       "  <thead>\n",
       "    <tr style=\"text-align: right;\">\n",
       "      <th></th>\n",
       "      <th>label</th>\n",
       "      <th>images</th>\n",
       "    </tr>\n",
       "  </thead>\n",
       "  <tbody>\n",
       "    <tr>\n",
       "      <th>0</th>\n",
       "      <td>jeromemesnager</td>\n",
       "      <td>64359289_133091861223634_5809575524924711823_n...</td>\n",
       "    </tr>\n",
       "    <tr>\n",
       "      <th>1</th>\n",
       "      <td>jeromemesnager</td>\n",
       "      <td>65170770_384301085535440_8025770535667260902_n...</td>\n",
       "    </tr>\n",
       "    <tr>\n",
       "      <th>2</th>\n",
       "      <td>jeromemesnager</td>\n",
       "      <td>21690437_338148079978726_7715208985422331904_n...</td>\n",
       "    </tr>\n",
       "    <tr>\n",
       "      <th>3</th>\n",
       "      <td>jeromemesnager</td>\n",
       "      <td>18580438_1949723398604375_6135094339744825344_...</td>\n",
       "    </tr>\n",
       "    <tr>\n",
       "      <th>4</th>\n",
       "      <td>jeromemesnager</td>\n",
       "      <td>56180289_1998462286946465_4905422635646289687_...</td>\n",
       "    </tr>\n",
       "    <tr>\n",
       "      <th>...</th>\n",
       "      <td>...</td>\n",
       "      <td>...</td>\n",
       "    </tr>\n",
       "    <tr>\n",
       "      <th>638</th>\n",
       "      <td>fkitcorp</td>\n",
       "      <td>56679692_170217583970845_8593584159264127646_n...</td>\n",
       "    </tr>\n",
       "    <tr>\n",
       "      <th>639</th>\n",
       "      <td>fkitcorp</td>\n",
       "      <td>163290961_295206351964065_8995394519247944883_...</td>\n",
       "    </tr>\n",
       "    <tr>\n",
       "      <th>640</th>\n",
       "      <td>fkitcorp</td>\n",
       "      <td>53682556_857664807937291_6551127929577640545_n...</td>\n",
       "    </tr>\n",
       "    <tr>\n",
       "      <th>641</th>\n",
       "      <td>fkitcorp</td>\n",
       "      <td>17818977_276211076165323_7444227588773380096_n...</td>\n",
       "    </tr>\n",
       "    <tr>\n",
       "      <th>642</th>\n",
       "      <td>fkitcorp</td>\n",
       "      <td>53490960_2447639791915664_7833330739573873053_...</td>\n",
       "    </tr>\n",
       "  </tbody>\n",
       "</table>\n",
       "<p>4938 rows × 2 columns</p>\n",
       "</div>"
      ],
      "text/plain": [
       "              label                                             images\n",
       "0    jeromemesnager  64359289_133091861223634_5809575524924711823_n...\n",
       "1    jeromemesnager  65170770_384301085535440_8025770535667260902_n...\n",
       "2    jeromemesnager  21690437_338148079978726_7715208985422331904_n...\n",
       "3    jeromemesnager  18580438_1949723398604375_6135094339744825344_...\n",
       "4    jeromemesnager  56180289_1998462286946465_4905422635646289687_...\n",
       "..              ...                                                ...\n",
       "638        fkitcorp  56679692_170217583970845_8593584159264127646_n...\n",
       "639        fkitcorp  163290961_295206351964065_8995394519247944883_...\n",
       "640        fkitcorp  53682556_857664807937291_6551127929577640545_n...\n",
       "641        fkitcorp  17818977_276211076165323_7444227588773380096_n...\n",
       "642        fkitcorp  53490960_2447639791915664_7833330739573873053_...\n",
       "\n",
       "[4938 rows x 2 columns]"
      ]
     },
     "execution_count": 23,
     "metadata": {},
     "output_type": "execute_result"
    }
   ],
   "source": [
    "dfs=[]\n",
    "for a in artistes:\n",
    "    images=os.listdir(IMAGE_PATH+'/'+a)\n",
    "    images_df=pd.DataFrame(images)\n",
    "    images_df['label']=a\n",
    "    images_df['images']=images_df[0]\n",
    "    images_df=images_df.drop(columns=[0])\n",
    "    dfs.append(images_df)\n",
    "\n",
    "pd.concat(dfs)"
   ]
  },
  {
   "cell_type": "code",
   "execution_count": 25,
   "metadata": {},
   "outputs": [
    {
     "name": "stdout",
     "output_type": "stream",
     "text": [
      "Found 4934 files belonging to 11 classes.\n"
     ]
    },
    {
     "data": {
      "text/plain": [
       "<BatchDataset shapes: ((None, 256, 256, 3), (None, 11)), types: (tf.float32, tf.float32)>"
      ]
     },
     "execution_count": 25,
     "metadata": {},
     "output_type": "execute_result"
    }
   ],
   "source": [
    "\n",
    "import tensorflow as tf\n",
    "from tensorflow.keras.layers import Input, Add, Dense, Activation, BatchNormalization, Flatten, Conv2D, AveragePooling2D, MaxPooling2D, GlobalMaxPooling2D, Dropout\n",
    "from tensorflow.keras import Model\n",
    "from tensorflow.keras.applications import ResNet50\n",
    "\n",
    "tf.keras.preprocessing.image_dataset_from_directory(\n",
    "    IMAGE_PATH, labels='inferred', label_mode='categorical',\n",
    "    class_names=artistes, color_mode='rgb', batch_size=32, image_size=(256,\n",
    "    256), shuffle=True, seed=None, validation_split=None, subset=None,\n",
    "    interpolation='bilinear', follow_links=False, smart_resize=False\n",
    ")"
   ]
  },
  {
   "cell_type": "code",
   "execution_count": null,
   "metadata": {},
   "outputs": [],
   "source": []
  }
 ],
 "metadata": {
  "kernelspec": {
   "display_name": "venv",
   "language": "python",
   "name": "venv"
  },
  "language_info": {
   "codemirror_mode": {
    "name": "ipython",
    "version": 3
   },
   "file_extension": ".py",
   "mimetype": "text/x-python",
   "name": "python",
   "nbconvert_exporter": "python",
   "pygments_lexer": "ipython3",
   "version": "3.8.5"
  }
 },
 "nbformat": 4,
 "nbformat_minor": 4
}
